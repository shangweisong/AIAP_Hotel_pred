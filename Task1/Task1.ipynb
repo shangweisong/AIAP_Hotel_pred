{
 "cells": [
  {
   "cell_type": "markdown",
   "metadata": {},
   "source": [
    "# Import libraries"
   ]
  },
  {
   "cell_type": "code",
   "execution_count": 111,
   "metadata": {},
   "outputs": [],
   "source": [
    "import pandas as pd\n",
    "import seaborn as sns\n",
    "import numpy as np\n",
    "import sqlite3\n",
    "from sklearn.preprocessing import StandardScaler\n",
    "from sklearn.decomposition import PCA\n",
    "from sklearn.model_selection import train_test_split\n",
    "from sklearn.metrics import ConfusionMatrixDisplay, confusion_matrix\n",
    "import matplotlib.pyplot as plt "
   ]
  },
  {
   "cell_type": "markdown",
   "metadata": {},
   "source": [
    "# Connect to database and look at the attributes of the dataframe"
   ]
  },
  {
   "cell_type": "code",
   "execution_count": 3,
   "metadata": {},
   "outputs": [
    {
     "name": "stdout",
     "output_type": "stream",
     "text": [
      "   booking_id  no_show   branch booking_month arrival_month  arrival_day  \\\n",
      "0       94113      0.0   Changi      November          June         25.0   \n",
      "1       86543      0.0  Orchard        August      November         28.0   \n",
      "2       75928      0.0   Changi         March      February          7.0   \n",
      "3       66947      1.0  Orchard     September       October          1.0   \n",
      "4      106390      0.0  Orchard         March          June         20.0   \n",
      "5       55212      0.0  Orchard      November     September         12.0   \n",
      "6       42322      0.0  Orchard      November       October         15.0   \n",
      "7       23137      0.0   Changi          July      November         18.0   \n",
      "8      109456      1.0   Changi       January          June         27.0   \n",
      "9       31117      0.0  Orchard       October         March         22.0   \n",
      "\n",
      "  checkout_month  checkout_day    country first_time    room         price  \\\n",
      "0           June          27.0  Singapore        Yes  Single   SGD$ 492.98   \n",
      "1       November          29.0  Indonesia        Yes    King  SGD$ 1351.22   \n",
      "2       February          11.0      India        Yes  Single          None   \n",
      "3        October           3.0      China        Yes  Single   SGD$ 666.04   \n",
      "4           June          24.0  Australia        Yes   Queen   USD$ 665.37   \n",
      "5      September          13.0  Indonesia        Yes    None  SGD$ 1499.61   \n",
      "6        October          16.0  Australia        Yes    King  SGD$ 1375.44   \n",
      "7       November          19.0      India        Yes    King          None   \n",
      "8           June          28.0      China        Yes    None   USD$ 658.75   \n",
      "9          March          24.0      China        Yes    None   USD$ 962.75   \n",
      "\n",
      "  platform num_adults  num_children  \n",
      "0  Website          1           0.0  \n",
      "1  Website          2           0.0  \n",
      "2    Agent          1           0.0  \n",
      "3  Website          1           0.0  \n",
      "4  Website          1           0.0  \n",
      "5  Website          2           2.0  \n",
      "6  Website          1           1.0  \n",
      "7    Email          2           1.0  \n",
      "8    Email          2           1.0  \n",
      "9  Website          1           1.0  \n",
      "<class 'pandas.core.frame.DataFrame'>\n",
      "RangeIndex: 119391 entries, 0 to 119390\n",
      "Data columns (total 15 columns):\n",
      " #   Column          Non-Null Count   Dtype  \n",
      "---  ------          --------------   -----  \n",
      " 0   booking_id      119391 non-null  int64  \n",
      " 1   no_show         119390 non-null  float64\n",
      " 2   branch          119390 non-null  object \n",
      " 3   booking_month   119390 non-null  object \n",
      " 4   arrival_month   119390 non-null  object \n",
      " 5   arrival_day     119390 non-null  float64\n",
      " 6   checkout_month  119390 non-null  object \n",
      " 7   checkout_day    119390 non-null  float64\n",
      " 8   country         119390 non-null  object \n",
      " 9   first_time      119390 non-null  object \n",
      " 10  room            97778 non-null   object \n",
      " 11  price           94509 non-null   object \n",
      " 12  platform        119390 non-null  object \n",
      " 13  num_adults      119390 non-null  object \n",
      " 14  num_children    119390 non-null  float64\n",
      "dtypes: float64(4), int64(1), object(10)\n",
      "memory usage: 13.7+ MB\n",
      "None\n",
      "          booking_id        no_show    arrival_day   checkout_day  \\\n",
      "count  119391.000000  119390.000000  119390.000000  119390.000000   \n",
      "mean    59695.000000       0.370416      15.798241      14.250507   \n",
      "std     34465.357332       0.482918       8.780829      11.063697   \n",
      "min         0.000000       0.000000       1.000000     -31.000000   \n",
      "25%     29847.500000       0.000000       8.000000       7.000000   \n",
      "50%     59695.000000       0.000000      16.000000      15.000000   \n",
      "75%     89542.500000       1.000000      23.000000      23.000000   \n",
      "max    119390.000000       1.000000      31.000000      31.000000   \n",
      "\n",
      "        num_children  \n",
      "count  119390.000000  \n",
      "mean        0.871229  \n",
      "std         0.779796  \n",
      "min         0.000000  \n",
      "25%         0.000000  \n",
      "50%         1.000000  \n",
      "75%         1.000000  \n",
      "max         3.000000  \n",
      "Index(['booking_id', 'no_show', 'branch', 'booking_month', 'arrival_month',\n",
      "       'arrival_day', 'checkout_month', 'checkout_day', 'country',\n",
      "       'first_time', 'room', 'price', 'platform', 'num_adults',\n",
      "       'num_children'],\n",
      "      dtype='object')\n",
      "booking_id          int64\n",
      "no_show           float64\n",
      "branch             object\n",
      "booking_month      object\n",
      "arrival_month      object\n",
      "arrival_day       float64\n",
      "checkout_month     object\n",
      "checkout_day      float64\n",
      "country            object\n",
      "first_time         object\n",
      "room               object\n",
      "price              object\n",
      "platform           object\n",
      "num_adults         object\n",
      "num_children      float64\n",
      "dtype: object\n",
      "booking_id            0\n",
      "no_show               1\n",
      "branch                1\n",
      "booking_month         1\n",
      "arrival_month         1\n",
      "arrival_day           1\n",
      "checkout_month        1\n",
      "checkout_day          1\n",
      "country               1\n",
      "first_time            1\n",
      "room              21613\n",
      "price             24882\n",
      "platform              1\n",
      "num_adults            1\n",
      "num_children          1\n",
      "dtype: int64\n"
     ]
    }
   ],
   "source": [
    "# connect to sql database\n",
    "db_path = \"/Users/shangweisong/Desktop/AIAP_Hotel_pred/data/noshow.db\"\n",
    "conn = sqlite3.connect(db_path)\n",
    "\n",
    "# Find table name \n",
    "tablename_query = \"SELECT name FROM sqlite_master WHERE type='table';\"\n",
    "tablename= pd.read_sql_query(tablename_query, conn)\n",
    "\n",
    "# Get data from database\n",
    "df_query = f\"SELECT * FROM {tablename.iloc[0,0]};\"\n",
    "df= pd.read_sql_query(df_query, conn)\n",
    "\n",
    "print(df.head(10))\n",
    "\n",
    "print(df.info())       # Data types and non-null counts\n",
    "print(df.describe())   # Summary statistics for numerical columns\n",
    "print(df.columns)      # List of column names\n",
    "print(df.dtypes)       # Data types of each column\n",
    "print(df.isnull().sum())  # Count of missing values in each column\n"
   ]
  },
  {
   "cell_type": "markdown",
   "metadata": {},
   "source": [
    "Getting insights on how to clean data"
   ]
  },
  {
   "cell_type": "code",
   "execution_count": 4,
   "metadata": {},
   "outputs": [
    {
     "name": "stdout",
     "output_type": "stream",
     "text": [
      "Unique values in booking_id: [94113 86543 75928 ... 81936  6738 99643]\n",
      "Unique values in no_show: [ 0.  1. nan]\n",
      "Unique values in branch: ['Changi' 'Orchard' None]\n",
      "Unique values in booking_month: ['November' 'August' 'March' 'September' 'July' 'January' 'October' 'June'\n",
      " 'December' 'April' 'May' 'February' None]\n",
      "Unique values in arrival_month: ['June' 'November' 'February' 'October' 'September' 'March' 'May' 'August'\n",
      " 'July' 'January' 'April' 'December' 'ApRiL' 'OcTobeR' 'JuNe' 'JulY'\n",
      " 'ApriL' 'OctOber' 'DecembEr' 'SeptEmber' 'JanUary' 'JUne' 'FeBruary'\n",
      " 'JanuarY' 'DEcember' 'SePtember' 'DecembeR' 'MaY' 'NoVember' 'JUly'\n",
      " 'JunE' 'JuLy' 'FebrUary' 'NOvember' 'SeptemBer' 'OctobeR' 'DecemBer'\n",
      " 'MarCh' 'AuguSt' 'AugusT' 'APril' 'SepTember' 'NovembEr' 'FEbruary'\n",
      " 'DeceMber' 'AuGust' 'SepteMber' 'FebruaRy' 'OctoBer' 'JanuaRy' 'MarcH'\n",
      " 'ApRil' 'AUgust' 'JanuAry' 'NOveMber' 'MaRch' 'AprIl' 'MAy' 'NovemBer'\n",
      " 'DecEmber' 'MArch' 'JaNuary' 'NovembeR' 'SeptembEr' 'FebruarY'\n",
      " 'SeptembeR' 'OcTober' 'DeCember' 'FebruAry' 'AugUst' 'NovEmber'\n",
      " 'NoveMber' 'OctobEr' 'OCtober' 'SEptember' 'JAnuary' 'SeptEMber' 'MAY'\n",
      " 'FebRuary' 'FeBruarY' 'OCTober' 'JUnE' 'DecEMber' 'FebruaRY' 'NovemBeR'\n",
      " 'NOvEmber' 'FEbruarY' None 'FeBruaRy']\n",
      "Unique values in arrival_day: [25. 28.  7.  1. 20. 12. 15. 18. 27. 22.  9. 11. 10. 13. 30. 21.  5.  6.\n",
      "  2. 31. 19.  4.  3. 23. 17.  8. 26. 14. 24. 29. 16. nan]\n",
      "Unique values in checkout_month: ['June' 'November' 'February' 'October' 'September' 'March' 'May' 'August'\n",
      " 'July' 'January' 'April' 'December' None]\n",
      "Unique values in checkout_day: [ 27.  29.  11.   3.  24.  13.  16.  19.  28.  10.  12.  15.  23.  31.\n",
      "  25.  17.   8.   2.   9.   7.   1.  20.  14.  -4.   4.   6.  21.   5.\n",
      "  18.  22. -10.  -3.  30.  26.  -6.  -5. -28. -20. -16. -19. -17. -12.\n",
      " -30. -26.  -8. -24. -15. -21.  -1.  -7. -27. -11. -18. -22. -13. -14.\n",
      " -29. -23.  -9.  -2. -31. -25.  nan]\n",
      "Unique values in country: ['Singapore' 'Indonesia' 'India' 'China' 'Australia' 'Japan' 'Malaysia'\n",
      " None]\n",
      "Unique values in first_time: ['Yes' 'No' None]\n",
      "Unique values in room: ['Single' 'King' 'Queen' None 'President Suite']\n",
      "Unique values in price: ['SGD$ 492.98' 'SGD$ 1351.22' None ... 'USD$ 612.18' 'USD$ 1041.29'\n",
      " 'SGD$ 886.35']\n",
      "Unique values in platform: ['Website' 'Agent' 'Email' 'Phone' None]\n",
      "Unique values in num_adults: ['1' '2' 'one' 'two' None]\n",
      "Unique values in num_children: [ 0.  2.  1.  3. nan]\n"
     ]
    }
   ],
   "source": [
    "# Getting insights on how to clean data\n",
    "for column in df.columns:\n",
    "    print(f\"Unique values in {column}: {df[column].unique()}\")"
   ]
  },
  {
   "cell_type": "markdown",
   "metadata": {},
   "source": [
    "# Cleaning data of data 1st attempt"
   ]
  },
  {
   "cell_type": "markdown",
   "metadata": {},
   "source": [
    "Dropping all null value first to observe the correlation of between the features before deciding on how to handle missing data"
   ]
  },
  {
   "cell_type": "code",
   "execution_count": 5,
   "metadata": {},
   "outputs": [],
   "source": [
    "\n",
    "df_cleaned = df.drop_duplicates(subset = 'booking_id', keep= 'first')\n",
    "df_cleaned = df_cleaned.dropna()\n",
    "df_cleaned = df_cleaned.apply(lambda x: x.str.lower() if x.dtype == \"object\" else x)\n",
    "df_cleaned['checkout_day'] = df_cleaned['checkout_day'].abs()\n",
    "df_cleaned['num_adults'] = df_cleaned['num_adults'].replace({'one': 1, 'two': 2})\n",
    "df_cleaned= df_cleaned.drop(['booking_id'],axis=1)\n",
    "\n"
   ]
  },
  {
   "cell_type": "markdown",
   "metadata": {},
   "source": [
    "# Feature engineering"
   ]
  },
  {
   "cell_type": "markdown",
   "metadata": {},
   "source": [
    "Transform price column into numerical value in sgd and currency type "
   ]
  },
  {
   "cell_type": "code",
   "execution_count": 6,
   "metadata": {},
   "outputs": [],
   "source": [
    "conversion_rates = {\n",
    "    'usd': 1.37,  # Example: 1 USD = 1.37 SGD\n",
    "    'sgd': 1.00,  # SGD remains the same\n",
    "}\n",
    "\n",
    "df_cleaned['currency']= df_cleaned['price'].str.extract(r'(\\w+)\\$')\n",
    "df_cleaned['amount']= df_cleaned['price'].str.extract(r'\\$ (\\d+(\\.\\d+)?)')[0].astype(float)\n",
    "df_cleaned['amount_in_sgd'] = df_cleaned.apply(lambda row: row['amount'] * conversion_rates.get(row['currency'].lower(), 1), axis=1).round(2)\n",
    "# drop irrelevant price column\n",
    "df_cleaned= df_cleaned.drop(['amount','price'],axis=1 )\n"
   ]
  },
  {
   "cell_type": "markdown",
   "metadata": {},
   "source": [
    "Find duration between booking month to arrival month\n",
    "Find intended stay duration"
   ]
  },
  {
   "cell_type": "code",
   "execution_count": 7,
   "metadata": {},
   "outputs": [],
   "source": [
    "# convert month to integer\n",
    "df_cleaned['booking_month_int'] = pd.to_datetime(df_cleaned['booking_month'],format='%B').dt.month\n",
    "df_cleaned['arrival_month_int'] = pd.to_datetime(df_cleaned['arrival_month'],format='%B').dt.month\n",
    "df_cleaned['checkout_month_int']= pd.to_datetime(df_cleaned['checkout_month'],format='%B').dt.month\n",
    "# find booking duration\n",
    "df_cleaned['book_duration']= (df_cleaned['arrival_month_int']- df_cleaned['booking_month_int']).abs()\n",
    "\n",
    "default_year=2024\n",
    "df_cleaned['arrival_date'] = pd.to_datetime({\n",
    "    'year': default_year,\n",
    "    'month': df_cleaned['arrival_month_int'],\n",
    "    'day': df_cleaned['arrival_day']\n",
    "})\n",
    "\n",
    "df_cleaned['checkout_date'] = pd.to_datetime({\n",
    "    'year': default_year,\n",
    "    'month': df_cleaned['checkout_month_int'],\n",
    "    'day': df_cleaned['checkout_day']\n",
    "})\n",
    "\n",
    "# add 1 year if checkout date earlier than arrival date\n",
    "df_cleaned['checkout_date'] = df_cleaned.apply(\n",
    "    lambda row: row['checkout_date'] if row['checkout_date'] >= row['arrival_date']\n",
    "    else row['checkout_date'] + pd.DateOffset(years=1),\n",
    "    axis=1\n",
    ")\n",
    "# find stay_duration in days\n",
    "df_cleaned['stay_duration'] = (df_cleaned['checkout_date']-df_cleaned['arrival_date']).dt.days\n",
    "\n",
    "# remove irrelevant columns\n",
    "df_cleaned= df_cleaned.drop(['arrival_month', 'booking_month', 'checkout_month_int','checkout_date','arrival_date'], axis=1)"
   ]
  },
  {
   "cell_type": "code",
   "execution_count": 8,
   "metadata": {},
   "outputs": [
    {
     "name": "stdout",
     "output_type": "stream",
     "text": [
      "Unique values in no_show: [0. 1.]\n",
      "Unique values in branch: ['changi' 'orchard']\n",
      "Unique values in arrival_day: [25. 28.  1. 20. 15.  9. 11. 10. 13. 21.  5.  6. 27. 31.  3.  4.  2.  7.\n",
      " 22. 23. 17. 14. 24. 29. 26. 19. 16.  8. 12. 18. 30.]\n",
      "Unique values in checkout_month: ['june' 'november' 'october' 'march' 'may' 'august' 'july' 'january'\n",
      " 'april' 'september' 'february' 'december']\n",
      "Unique values in checkout_day: [27. 29.  3. 24. 16. 10. 12. 13. 11. 25. 17. 23.  8.  2.  9.  1.  4. 28.\n",
      "  6. 21.  5. 15.  7. 18. 19. 22. 14. 20. 30. 26. 31.]\n",
      "Unique values in country: ['singapore' 'indonesia' 'china' 'australia' 'japan' 'india' 'malaysia']\n",
      "Unique values in first_time: ['yes' 'no']\n",
      "Unique values in room: ['single' 'king' 'queen' 'president suite']\n",
      "Unique values in platform: ['website' 'email' 'agent' 'phone']\n",
      "Unique values in num_adults: ['1' '2' 1 2]\n",
      "Unique values in num_children: [0. 1. 2. 3.]\n",
      "Unique values in currency: ['sgd' 'usd']\n",
      "Unique values in amount_in_sgd: [ 492.98 1351.22  666.04 ... 1127.65  454.74 1426.57]\n",
      "Unique values in booking_month_int: [11  8  9  3 10  6  7  4  5  2  1 12]\n",
      "Unique values in arrival_month_int: [ 6 11 10  3  5  8  7  1  4  9  2 12]\n",
      "Unique values in book_duration: [ 5  3  1  7  8  2  4  0  9  6 11 10]\n",
      "Unique values in stay_duration: [ 2  1  4 14  3  5  8 28 15 21 29 22 23 40 42 49 35  9 62 43 30  6 46 16\n",
      " 54]\n"
     ]
    }
   ],
   "source": [
    "# Getting insights on how to clean data\n",
    "for column in df_cleaned.columns:\n",
    "    print(f\"Unique values in {column}: {df_cleaned[column].unique()}\")"
   ]
  },
  {
   "cell_type": "markdown",
   "metadata": {},
   "source": [
    "Standardise numerical data and one-hot encode categorical"
   ]
  },
  {
   "cell_type": "markdown",
   "metadata": {},
   "source": [
    "My intepretation of datatype\n",
    "| Feature Name        | Data Type      |\n",
    "|---------------------|----------------|\n",
    "| no_show             | Categorical    |\n",
    "| branch              | Categorical    |\n",
    "| arrival_day         | Categorical    |\n",
    "| checkout_month      | Categorical    |\n",
    "| checkout_day        | Categorical    |\n",
    "| country             | Categorical    |\n",
    "| first_time          | Categorical    |\n",
    "| room                | Categorical    |\n",
    "| platform            | Categorical    |\n",
    "| currency            | Categorical    |\n",
    "| booking_month       | Cyclical       |\n",
    "| arrival_month       | Cyclical       |\n",
    "| num_adults          | Numerical      |\n",
    "| num_children        | Numerical      |\n",
    "| amount_in_sgd       | Numerical      |\n",
    "| book_duration       | Numerical      |\n",
    "| stay_duration       | Numerical      |\n",
    "\n",
    "\n",
    "\n"
   ]
  },
  {
   "cell_type": "code",
   "execution_count": 9,
   "metadata": {},
   "outputs": [
    {
     "name": "stdout",
     "output_type": "stream",
     "text": [
      "     no_show  num_adults  num_children  amount_in_sgd  booking_month_int  \\\n",
      "0  -0.767577   -0.855915     -1.118248      -1.717258                 11   \n",
      "1  -0.767577    1.168341     -1.118248       1.515173                  8   \n",
      "3   1.302801   -0.855915     -1.118248      -1.065454                  9   \n",
      "4  -0.767577   -0.855915     -1.118248      -0.140740                  3   \n",
      "6  -0.767577   -0.855915      0.163848       1.606394                 11   \n",
      "10 -0.767577    1.168341      1.445944       1.992708                 10   \n",
      "11  1.302801   -0.855915      1.445944      -0.304840                  3   \n",
      "12 -0.767577    1.168341     -1.118248      -0.298324                  3   \n",
      "13  1.302801   -0.855915     -1.118248      -0.544982                  6   \n",
      "14 -0.767577    1.168341      1.445944       1.482405                  7   \n",
      "\n",
      "    arrival_month_int  book_duration  stay_duration  branch_orchard  \\\n",
      "0                   6       0.511455      -0.053590               0   \n",
      "1                  11      -0.215312      -0.510707               1   \n",
      "3                  10      -0.942080      -0.053590               1   \n",
      "4                   6      -0.215312       0.860645               1   \n",
      "6                  10      -0.942080      -0.510707               1   \n",
      "10                  3       1.238223      -0.510707               1   \n",
      "11                  6      -0.215312      -0.510707               0   \n",
      "12                 11       1.601606      -0.510707               0   \n",
      "13                  3      -0.215312      -0.053590               1   \n",
      "14                  5      -0.578696      -0.510707               1   \n",
      "\n",
      "    arrival_day_2.0  ...  room_queen  room_single  platform_email  \\\n",
      "0                 0  ...           0            1               0   \n",
      "1                 0  ...           0            0               0   \n",
      "3                 0  ...           0            1               0   \n",
      "4                 0  ...           1            0               0   \n",
      "6                 0  ...           0            0               0   \n",
      "10                0  ...           0            0               0   \n",
      "11                0  ...           0            0               0   \n",
      "12                0  ...           0            0               0   \n",
      "13                0  ...           0            1               1   \n",
      "14                0  ...           0            0               0   \n",
      "\n",
      "    platform_phone  platform_website  currency_usd  sin_booking_month  \\\n",
      "0                0                 1             0      -5.000000e-01   \n",
      "1                0                 1             0      -8.660254e-01   \n",
      "3                0                 1             0      -1.000000e+00   \n",
      "4                0                 1             1       1.000000e+00   \n",
      "6                0                 1             0      -5.000000e-01   \n",
      "10               0                 1             0      -8.660254e-01   \n",
      "11               0                 1             0       1.000000e+00   \n",
      "12               0                 1             0       1.000000e+00   \n",
      "13               0                 0             1       1.224647e-16   \n",
      "14               0                 1             0      -5.000000e-01   \n",
      "\n",
      "    cos_booking_month  sin_arrival_month  cos_arrival_month  \n",
      "0        8.660254e-01       1.224647e-16      -1.000000e+00  \n",
      "1       -5.000000e-01      -5.000000e-01       8.660254e-01  \n",
      "3       -1.836970e-16      -8.660254e-01       5.000000e-01  \n",
      "4        6.123234e-17       1.224647e-16      -1.000000e+00  \n",
      "6        8.660254e-01      -8.660254e-01       5.000000e-01  \n",
      "10       5.000000e-01       1.000000e+00       6.123234e-17  \n",
      "11       6.123234e-17       1.224647e-16      -1.000000e+00  \n",
      "12       6.123234e-17      -5.000000e-01       8.660254e-01  \n",
      "13      -1.000000e+00       1.000000e+00       6.123234e-17  \n",
      "14      -8.660254e-01       5.000000e-01      -8.660254e-01  \n",
      "\n",
      "[10 rows x 98 columns]\n"
     ]
    }
   ],
   "source": [
    "# define datatype\n",
    "\n",
    "numerical_columns= ['num_adults', 'num_children','amount_in_sgd','book_duration','stay_duration','no_show']\n",
    "categorical_columns= ['branch','arrival_day','checkout_month','checkout_day','country','first_time','room','platform','currency']\n",
    "cyclical_columns=['booking_month_int', 'arrival_month_int']\n",
    "\n",
    "df_encoded = pd.get_dummies(df_cleaned, columns=categorical_columns, drop_first=True)\n",
    "# convert bool to 0,1\n",
    "bool_columns = df_encoded.select_dtypes(include=['bool']).columns\n",
    "df_encoded[bool_columns] = df_encoded[bool_columns].astype(int)\n",
    "\n",
    "# Standardize the numerical columns\n",
    "scaler = StandardScaler()\n",
    "df_encoded[numerical_columns] = scaler.fit_transform(df_encoded[numerical_columns])\n",
    "\n",
    "\n",
    "# encode cyclical data\n",
    "\n",
    "df_encoded['sin_booking_month'] = np.sin(2 * np.pi * df_cleaned['booking_month_int'] / 12)\n",
    "df_encoded['cos_booking_month'] = np.cos(2 * np.pi * df_cleaned['booking_month_int'] / 12)\n",
    "\n",
    "df_encoded['sin_arrival_month'] = np.sin(2 * np.pi * df_cleaned['arrival_month_int'] / 12)\n",
    "df_encoded['cos_arrival_month'] = np.cos(2 * np.pi * df_cleaned['arrival_month_int'] / 12)\n",
    "\n",
    "# Display the processed DataFrame\n",
    "print(df_encoded.head(10))"
   ]
  },
  {
   "cell_type": "code",
   "execution_count": 10,
   "metadata": {},
   "outputs": [
    {
     "name": "stdout",
     "output_type": "stream",
     "text": [
      "amount_in_sgd           1.000000\n",
      "branch_orchard          0.642388\n",
      "room_single             0.581266\n",
      "room_president suite    0.324601\n",
      "num_adults              0.218105\n",
      "num_children            0.160369\n",
      "country_china           0.142454\n",
      "Name: amount_in_sgd, dtype: float64\n"
     ]
    }
   ],
   "source": [
    "df_corr= df_encoded\n",
    "corr_matrix_fill=  df_corr.corr()\n",
    "price_corr = corr_matrix_fill['amount_in_sgd'].abs().sort_values(ascending=False)\n",
    "\n",
    "\n",
    "print(price_corr[price_corr >= 0.1])\n"
   ]
  },
  {
   "cell_type": "code",
   "execution_count": 11,
   "metadata": {},
   "outputs": [
    {
     "name": "stdout",
     "output_type": "stream",
     "text": [
      "room_president suite    1.000000\n",
      "amount_in_sgd           0.324601\n",
      "branch_orchard          0.119904\n",
      "Name: room_president suite, dtype: float64\n"
     ]
    }
   ],
   "source": [
    "df_corr= df_encoded\n",
    "corr_matrix_fill=  df_corr.corr()\n",
    "price_corr = corr_matrix_fill['room_president suite'].abs().sort_values(ascending=False)\n",
    "\n",
    "\n",
    "print(price_corr[price_corr >= 0.1])\n"
   ]
  },
  {
   "cell_type": "markdown",
   "metadata": {},
   "source": [
    "# Preparing dataset for ML"
   ]
  },
  {
   "cell_type": "markdown",
   "metadata": {},
   "source": [
    "Fill missing price according by taking the average of price of same type of room and same branch  \n",
    "Fill missing room type by analysing price and branch"
   ]
  },
  {
   "cell_type": "code",
   "execution_count": 94,
   "metadata": {},
   "outputs": [
    {
     "name": "stderr",
     "output_type": "stream",
     "text": [
      "/var/folders/0d/12spm1y90s559_tdr7d3w0500000gn/T/ipykernel_90770/1265364139.py:6: FutureWarning: Downcasting behavior in `replace` is deprecated and will be removed in a future version. To retain the old behavior, explicitly call `result.infer_objects(copy=False)`. To opt-in to the future behavior, set `pd.set_option('future.no_silent_downcasting', True)`\n",
      "  df_ml['num_adults'] = df_ml['num_adults'].replace({'one': 1, 'two': 2, '1': 1, '2': 2})\n"
     ]
    }
   ],
   "source": [
    "df_ml = df.drop_duplicates(subset = 'booking_id', keep= 'first')\n",
    "df_ml= df_ml.drop(['booking_id'],axis=1)\n",
    "df_ml= df_ml.dropna(how= 'all')\n",
    "df_ml = df_ml.apply(lambda x: x.str.lower() if x.dtype == \"object\" else x)\n",
    "df_ml['checkout_day'] = df_ml['checkout_day'].abs()\n",
    "df_ml['num_adults'] = df_ml['num_adults'].replace({'one': 1, 'two': 2, '1': 1, '2': 2})\n",
    "\n"
   ]
  },
  {
   "cell_type": "code",
   "execution_count": 95,
   "metadata": {},
   "outputs": [],
   "source": [
    "conversion_rates = {\n",
    "    'usd': 1.37,  # Example: 1 USD = 1.37 SGD\n",
    "    'sgd': 1.00,  # SGD remains the same\n",
    "}\n",
    "\n",
    "# Extract currency and amount , default to NaN for missing values \n",
    "df_ml['currency'] = df_ml['price'].str.extract(r'(\\w+)\\$', expand=False)\n",
    "df_ml['amount'] = pd.to_numeric(\n",
    "    df_ml['price'].str.extract(r'\\$ (\\d+(\\.\\d+)?)', expand=False)[0],\n",
    "    errors='coerce'\n",
    ")\n",
    "\n",
    "# Calculate amount in SGD, skipping rows with missing data\n",
    "df_ml['amount_in_sgd'] = (df_ml.apply(lambda row: row['amount'] * conversion_rates.get(row['currency'].lower(), 1)\n",
    "        if pd.notnull(row['amount']) and pd.notnull(row['currency'])\n",
    "        else None,  # Leave as NaN if 'amount' or 'currency' is missing\n",
    "        axis=1\n",
    "    )\n",
    ").round(2)\n",
    "# drop original price\n",
    "df_ml = df_ml.drop(['price','amount','currency'], axis=1)"
   ]
  },
  {
   "cell_type": "code",
   "execution_count": 97,
   "metadata": {},
   "outputs": [],
   "source": [
    "\n",
    "# Group by 'room' and 'branch' and calculate the mean price for each group\n",
    "average_price = df_ml.groupby(['room', 'branch'])['amount_in_sgd'].mean().reset_index()\n",
    "average_price = average_price.rename(columns={'amount_in_sgd': 'price_mean'})\n",
    "\n",
    "# store average price df for later use\n",
    "room_branch_mean= average_price\n",
    "\n",
    "# Merge the average price back to the original DataFrame on 'room' and 'branch'\n",
    "df_ml = df_ml.merge(average_price, on=['room', 'branch'], how='left')\n",
    "\n",
    "# Fill the null values in 'price' with the calculated 'price_mean'\n",
    "df_ml['amount_in_sgd'] = df_ml['amount_in_sgd'].fillna(df_ml['price_mean'])\n",
    "\n",
    "# Drop the irrelevant column\n",
    "df_ml.drop(columns=['price_mean'], inplace=True)\n"
   ]
  },
  {
   "cell_type": "markdown",
   "metadata": {},
   "source": [
    "Fill missing room"
   ]
  },
  {
   "cell_type": "code",
   "execution_count": 98,
   "metadata": {},
   "outputs": [],
   "source": [
    "# Create a lookup dictionary from the mean price dataframe stored earlier\n",
    "lookup_dict = room_branch_mean.set_index(['branch', 'room'])['price_mean'].to_dict()\n",
    "\n",
    "# Function to find the closest room type based on branch and price\n",
    "def infer_room_type(row):\n",
    "    if pd.notnull(row['room']):\n",
    "        return row['room']  # Keep existing room_type if it's not null\n",
    "    \n",
    "    # Find the branch and price from the row\n",
    "    branch = row['branch']\n",
    "    price = row['amount_in_sgd']\n",
    "    \n",
    "    # Filter lookup_dict for the current branch\n",
    "    branch_rooms = {room: price_mean for (b, room), price_mean in lookup_dict.items() if b == branch}\n",
    "    \n",
    "    if not branch_rooms:\n",
    "        return None  # Return None if no matches for the branch\n",
    "    \n",
    "    # Find the room type with the closest price\n",
    "    closest_room = min(branch_rooms, key=lambda room: abs(branch_rooms[room] - price))\n",
    "    return closest_room\n",
    "\n",
    "# Apply the inference function to the DataFrame\n",
    "df_ml['room'] = df_ml.apply(infer_room_type, axis=1)"
   ]
  },
  {
   "cell_type": "markdown",
   "metadata": {},
   "source": [
    "Rest of the feature engineering"
   ]
  },
  {
   "cell_type": "code",
   "execution_count": 99,
   "metadata": {},
   "outputs": [],
   "source": [
    "# convert month to integer\n",
    "df_ml['booking_month_int'] = pd.to_datetime(df_ml['booking_month'],format='%B').dt.month\n",
    "df_ml['arrival_month_int'] = pd.to_datetime(df_ml['arrival_month'],format='%B').dt.month\n",
    "df_ml['checkout_month_int']= pd.to_datetime(df_ml['checkout_month'],format='%B').dt.month\n",
    "# find booking duration\n",
    "df_ml['book_duration']= (df_ml['arrival_month_int']- df_ml['booking_month_int']).abs()\n",
    "\n",
    "default_year=2024\n",
    "df_ml['arrival_date'] = pd.to_datetime({\n",
    "    'year': default_year,\n",
    "    'month': df_ml['arrival_month_int'],\n",
    "    'day': df_ml['arrival_day']\n",
    "})\n",
    "\n",
    "df_ml['checkout_date'] = pd.to_datetime({\n",
    "    'year': default_year,\n",
    "    'month': df_ml['checkout_month_int'],\n",
    "    'day': df_ml['checkout_day']\n",
    "})\n",
    "\n",
    "# add 1 year if checkout date earlier than arrival date\n",
    "df_ml['checkout_date'] = df_ml.apply(\n",
    "    lambda row: row['checkout_date'] if row['checkout_date'] >= row['arrival_date']\n",
    "    else row['checkout_date'] + pd.DateOffset(years=1),\n",
    "    axis=1\n",
    ")\n",
    "# find stay_duration in days\n",
    "df_ml['stay_duration'] = (df_ml['checkout_date']-df_ml['arrival_date']).dt.days\n",
    "\n",
    "# remove irrelevant columns\n",
    "df_ml= df_ml.drop(['arrival_month', 'booking_month', 'checkout_month_int','checkout_date','arrival_date'], axis=1)"
   ]
  },
  {
   "cell_type": "code",
   "execution_count": null,
   "metadata": {},
   "outputs": [],
   "source": [
    "df_ml"
   ]
  },
  {
   "cell_type": "markdown",
   "metadata": {},
   "source": [
    "Encode data "
   ]
  },
  {
   "cell_type": "code",
   "execution_count": 100,
   "metadata": {},
   "outputs": [],
   "source": [
    "numerical_columns= ['num_adults', 'num_children','amount_in_sgd','book_duration','stay_duration','no_show']\n",
    "categorical_columns= ['branch','arrival_day','checkout_month','checkout_day','country','first_time','room','platform',]\n",
    "cyclical_columns=['booking_month_int', 'arrival_month_int']\n",
    "\n",
    "df_ml = pd.get_dummies(df_ml, columns=categorical_columns, drop_first=True)\n",
    "# convert bool to 0,1\n",
    "bool_columns = df_ml.select_dtypes(include=['bool']).columns\n",
    "df_ml[bool_columns] = df_ml[bool_columns].astype(int)\n",
    "\n",
    "# Standardize the numerical columns\n",
    "scaler = StandardScaler()\n",
    "df_ml[numerical_columns] = scaler.fit_transform(df_ml[numerical_columns])\n",
    "\n",
    "\n",
    "# encode cyclical data\n",
    "\n",
    "df_ml['sin_booking_month'] = np.sin(2 * np.pi * df_ml['booking_month_int'] / 12)\n",
    "df_ml['cos_booking_month'] = np.cos(2 * np.pi * df_ml['booking_month_int'] / 12)\n",
    "\n",
    "df_ml['sin_arrival_month'] = np.sin(2 * np.pi * df_ml['arrival_month_int'] / 12)\n",
    "df_ml['cos_arrival_month'] = np.cos(2 * np.pi * df_ml['arrival_month_int'] / 12)\n"
   ]
  },
  {
   "cell_type": "code",
   "execution_count": 85,
   "metadata": {},
   "outputs": [
    {
     "name": "stdout",
     "output_type": "stream",
     "text": [
      "no_show              1.000000\n",
      "country_china        0.341950\n",
      "branch_orchard       0.137955\n",
      "country_india        0.123827\n",
      "country_japan        0.122210\n",
      "country_indonesia    0.114661\n",
      "first_time_yes       0.083635\n",
      "amount_in_sgd        0.060485\n",
      "country_singapore    0.051500\n",
      "room_single          0.050891\n",
      "Name: no_show, dtype: float64\n"
     ]
    }
   ],
   "source": [
    "corr_matrix = df_encoded.corr()\n",
    "no_show_corr = corr_matrix['no_show']\n",
    "\n",
    "sorted_corr = no_show_corr.abs().sort_values(ascending=False)\n",
    "# sns.heatmap(sorted_corr.values.reshape(1, -1), annot=True, cmap='coolwarm', cbar_kws={'label': 'Correlation'}, vmin=-1, vmax=1)\n",
    "\n",
    "print(sorted_corr[sorted_corr >= 0.05])\n"
   ]
  },
  {
   "cell_type": "markdown",
   "metadata": {},
   "source": [
    "# Split data for ML"
   ]
  },
  {
   "cell_type": "code",
   "execution_count": 102,
   "metadata": {},
   "outputs": [],
   "source": [
    "\n",
    "X= df_ml.drop(['no_show'],axis=1)\n",
    "y= df_ml['no_show']\n",
    "# X_train, X_test, y_train, y_test= train_test_split(X, y, test_size=0.2, random_state=42)\n",
    "\n",
    "pca = PCA(n_components=0.95)  # Keeps 95% of the variance\n",
    "X_pca = pca.fit_transform(X)\n",
    "X_train, X_test, y_train, y_test= train_test_split(X_pca, y, test_size=0.2, random_state=42)\n",
    "\n",
    "y_train= y_train.astype(int)\n",
    "y_test= y_test.astype(int)\n",
    "# X_pca_df= pd.DataFrame(X_pca)\n",
    "# print(X_pca_df.head())\n",
    "\n"
   ]
  },
  {
   "cell_type": "code",
   "execution_count": 88,
   "metadata": {},
   "outputs": [
    {
     "name": "stdout",
     "output_type": "stream",
     "text": [
      "Accuracy: 0.78\n",
      "Classification Report:\n",
      "              precision    recall  f1-score   support\n",
      "\n",
      "           0       0.78      0.91      0.84     15111\n",
      "           1       0.79      0.56      0.65      8767\n",
      "\n",
      "    accuracy                           0.78     23878\n",
      "   macro avg       0.78      0.74      0.75     23878\n",
      "weighted avg       0.78      0.78      0.77     23878\n",
      "\n"
     ]
    }
   ],
   "source": [
    "from sklearn.ensemble import RandomForestClassifier\n",
    "from sklearn.metrics import accuracy_score, classification_report\n",
    "\n",
    "# Create the Random Forest Classifier instance\n",
    "rf_classifier = RandomForestClassifier(random_state=42)\n",
    "\n",
    "# Fit the model to the training data\n",
    "rf_classifier.fit(X_train, y_train)\n",
    "\n",
    "# Predict on the test set\n",
    "y_pred = rf_classifier.predict(X_test)\n",
    "\n",
    "# Evaluate the model\n",
    "accuracy = accuracy_score(y_test, y_pred)\n",
    "print(f\"Accuracy: {accuracy:.2f}\")\n",
    "print(\"Classification Report:\")\n",
    "print(classification_report(y_test, y_pred))"
   ]
  },
  {
   "cell_type": "code",
   "execution_count": 90,
   "metadata": {},
   "outputs": [
    {
     "name": "stdout",
     "output_type": "stream",
     "text": [
      "Training baseline Random Forest...\n"
     ]
    },
    {
     "ename": "KeyboardInterrupt",
     "evalue": "",
     "output_type": "error",
     "traceback": [
      "\u001b[0;31m---------------------------------------------------------------------------\u001b[0m",
      "\u001b[0;31mKeyboardInterrupt\u001b[0m                         Traceback (most recent call last)",
      "Cell \u001b[0;32mIn[90], line 6\u001b[0m\n\u001b[1;32m      4\u001b[0m \u001b[38;5;28mprint\u001b[39m(\u001b[38;5;124m\"\u001b[39m\u001b[38;5;124mTraining baseline Random Forest...\u001b[39m\u001b[38;5;124m\"\u001b[39m)\n\u001b[1;32m      5\u001b[0m rf_baseline \u001b[38;5;241m=\u001b[39m RandomForestClassifier(random_state\u001b[38;5;241m=\u001b[39m\u001b[38;5;241m42\u001b[39m)\n\u001b[0;32m----> 6\u001b[0m \u001b[43mrf_baseline\u001b[49m\u001b[38;5;241;43m.\u001b[39;49m\u001b[43mfit\u001b[49m\u001b[43m(\u001b[49m\u001b[43mX_train\u001b[49m\u001b[43m,\u001b[49m\u001b[43m \u001b[49m\u001b[43my_train\u001b[49m\u001b[43m)\u001b[49m\n\u001b[1;32m      7\u001b[0m baseline_preds \u001b[38;5;241m=\u001b[39m rf_baseline\u001b[38;5;241m.\u001b[39mpredict(X_test)\n\u001b[1;32m      8\u001b[0m \u001b[38;5;28mprint\u001b[39m(\u001b[38;5;124m\"\u001b[39m\u001b[38;5;124mBaseline Accuracy:\u001b[39m\u001b[38;5;124m\"\u001b[39m, accuracy_score(y_test, baseline_preds))\n",
      "File \u001b[0;32m~/Desktop/AIAP_Hotel_pred/.hotel/lib/python3.13/site-packages/sklearn/base.py:1473\u001b[0m, in \u001b[0;36m_fit_context.<locals>.decorator.<locals>.wrapper\u001b[0;34m(estimator, *args, **kwargs)\u001b[0m\n\u001b[1;32m   1466\u001b[0m     estimator\u001b[38;5;241m.\u001b[39m_validate_params()\n\u001b[1;32m   1468\u001b[0m \u001b[38;5;28;01mwith\u001b[39;00m config_context(\n\u001b[1;32m   1469\u001b[0m     skip_parameter_validation\u001b[38;5;241m=\u001b[39m(\n\u001b[1;32m   1470\u001b[0m         prefer_skip_nested_validation \u001b[38;5;129;01mor\u001b[39;00m global_skip_validation\n\u001b[1;32m   1471\u001b[0m     )\n\u001b[1;32m   1472\u001b[0m ):\n\u001b[0;32m-> 1473\u001b[0m     \u001b[38;5;28;01mreturn\u001b[39;00m \u001b[43mfit_method\u001b[49m\u001b[43m(\u001b[49m\u001b[43mestimator\u001b[49m\u001b[43m,\u001b[49m\u001b[43m \u001b[49m\u001b[38;5;241;43m*\u001b[39;49m\u001b[43margs\u001b[49m\u001b[43m,\u001b[49m\u001b[43m \u001b[49m\u001b[38;5;241;43m*\u001b[39;49m\u001b[38;5;241;43m*\u001b[39;49m\u001b[43mkwargs\u001b[49m\u001b[43m)\u001b[49m\n",
      "File \u001b[0;32m~/Desktop/AIAP_Hotel_pred/.hotel/lib/python3.13/site-packages/sklearn/ensemble/_forest.py:489\u001b[0m, in \u001b[0;36mBaseForest.fit\u001b[0;34m(self, X, y, sample_weight)\u001b[0m\n\u001b[1;32m    478\u001b[0m trees \u001b[38;5;241m=\u001b[39m [\n\u001b[1;32m    479\u001b[0m     \u001b[38;5;28mself\u001b[39m\u001b[38;5;241m.\u001b[39m_make_estimator(append\u001b[38;5;241m=\u001b[39m\u001b[38;5;28;01mFalse\u001b[39;00m, random_state\u001b[38;5;241m=\u001b[39mrandom_state)\n\u001b[1;32m    480\u001b[0m     \u001b[38;5;28;01mfor\u001b[39;00m i \u001b[38;5;129;01min\u001b[39;00m \u001b[38;5;28mrange\u001b[39m(n_more_estimators)\n\u001b[1;32m    481\u001b[0m ]\n\u001b[1;32m    483\u001b[0m \u001b[38;5;66;03m# Parallel loop: we prefer the threading backend as the Cython code\u001b[39;00m\n\u001b[1;32m    484\u001b[0m \u001b[38;5;66;03m# for fitting the trees is internally releasing the Python GIL\u001b[39;00m\n\u001b[1;32m    485\u001b[0m \u001b[38;5;66;03m# making threading more efficient than multiprocessing in\u001b[39;00m\n\u001b[1;32m    486\u001b[0m \u001b[38;5;66;03m# that case. However, for joblib 0.12+ we respect any\u001b[39;00m\n\u001b[1;32m    487\u001b[0m \u001b[38;5;66;03m# parallel_backend contexts set at a higher level,\u001b[39;00m\n\u001b[1;32m    488\u001b[0m \u001b[38;5;66;03m# since correctness does not rely on using threads.\u001b[39;00m\n\u001b[0;32m--> 489\u001b[0m trees \u001b[38;5;241m=\u001b[39m \u001b[43mParallel\u001b[49m\u001b[43m(\u001b[49m\n\u001b[1;32m    490\u001b[0m \u001b[43m    \u001b[49m\u001b[43mn_jobs\u001b[49m\u001b[38;5;241;43m=\u001b[39;49m\u001b[38;5;28;43mself\u001b[39;49m\u001b[38;5;241;43m.\u001b[39;49m\u001b[43mn_jobs\u001b[49m\u001b[43m,\u001b[49m\n\u001b[1;32m    491\u001b[0m \u001b[43m    \u001b[49m\u001b[43mverbose\u001b[49m\u001b[38;5;241;43m=\u001b[39;49m\u001b[38;5;28;43mself\u001b[39;49m\u001b[38;5;241;43m.\u001b[39;49m\u001b[43mverbose\u001b[49m\u001b[43m,\u001b[49m\n\u001b[1;32m    492\u001b[0m \u001b[43m    \u001b[49m\u001b[43mprefer\u001b[49m\u001b[38;5;241;43m=\u001b[39;49m\u001b[38;5;124;43m\"\u001b[39;49m\u001b[38;5;124;43mthreads\u001b[39;49m\u001b[38;5;124;43m\"\u001b[39;49m\u001b[43m,\u001b[49m\n\u001b[1;32m    493\u001b[0m \u001b[43m\u001b[49m\u001b[43m)\u001b[49m\u001b[43m(\u001b[49m\n\u001b[1;32m    494\u001b[0m \u001b[43m    \u001b[49m\u001b[43mdelayed\u001b[49m\u001b[43m(\u001b[49m\u001b[43m_parallel_build_trees\u001b[49m\u001b[43m)\u001b[49m\u001b[43m(\u001b[49m\n\u001b[1;32m    495\u001b[0m \u001b[43m        \u001b[49m\u001b[43mt\u001b[49m\u001b[43m,\u001b[49m\n\u001b[1;32m    496\u001b[0m \u001b[43m        \u001b[49m\u001b[38;5;28;43mself\u001b[39;49m\u001b[38;5;241;43m.\u001b[39;49m\u001b[43mbootstrap\u001b[49m\u001b[43m,\u001b[49m\n\u001b[1;32m    497\u001b[0m \u001b[43m        \u001b[49m\u001b[43mX\u001b[49m\u001b[43m,\u001b[49m\n\u001b[1;32m    498\u001b[0m \u001b[43m        \u001b[49m\u001b[43my\u001b[49m\u001b[43m,\u001b[49m\n\u001b[1;32m    499\u001b[0m \u001b[43m        \u001b[49m\u001b[43msample_weight\u001b[49m\u001b[43m,\u001b[49m\n\u001b[1;32m    500\u001b[0m \u001b[43m        \u001b[49m\u001b[43mi\u001b[49m\u001b[43m,\u001b[49m\n\u001b[1;32m    501\u001b[0m \u001b[43m        \u001b[49m\u001b[38;5;28;43mlen\u001b[39;49m\u001b[43m(\u001b[49m\u001b[43mtrees\u001b[49m\u001b[43m)\u001b[49m\u001b[43m,\u001b[49m\n\u001b[1;32m    502\u001b[0m \u001b[43m        \u001b[49m\u001b[43mverbose\u001b[49m\u001b[38;5;241;43m=\u001b[39;49m\u001b[38;5;28;43mself\u001b[39;49m\u001b[38;5;241;43m.\u001b[39;49m\u001b[43mverbose\u001b[49m\u001b[43m,\u001b[49m\n\u001b[1;32m    503\u001b[0m \u001b[43m        \u001b[49m\u001b[43mclass_weight\u001b[49m\u001b[38;5;241;43m=\u001b[39;49m\u001b[38;5;28;43mself\u001b[39;49m\u001b[38;5;241;43m.\u001b[39;49m\u001b[43mclass_weight\u001b[49m\u001b[43m,\u001b[49m\n\u001b[1;32m    504\u001b[0m \u001b[43m        \u001b[49m\u001b[43mn_samples_bootstrap\u001b[49m\u001b[38;5;241;43m=\u001b[39;49m\u001b[43mn_samples_bootstrap\u001b[49m\u001b[43m,\u001b[49m\n\u001b[1;32m    505\u001b[0m \u001b[43m        \u001b[49m\u001b[43mmissing_values_in_feature_mask\u001b[49m\u001b[38;5;241;43m=\u001b[39;49m\u001b[43mmissing_values_in_feature_mask\u001b[49m\u001b[43m,\u001b[49m\n\u001b[1;32m    506\u001b[0m \u001b[43m    \u001b[49m\u001b[43m)\u001b[49m\n\u001b[1;32m    507\u001b[0m \u001b[43m    \u001b[49m\u001b[38;5;28;43;01mfor\u001b[39;49;00m\u001b[43m \u001b[49m\u001b[43mi\u001b[49m\u001b[43m,\u001b[49m\u001b[43m \u001b[49m\u001b[43mt\u001b[49m\u001b[43m \u001b[49m\u001b[38;5;129;43;01min\u001b[39;49;00m\u001b[43m \u001b[49m\u001b[38;5;28;43menumerate\u001b[39;49m\u001b[43m(\u001b[49m\u001b[43mtrees\u001b[49m\u001b[43m)\u001b[49m\n\u001b[1;32m    508\u001b[0m \u001b[43m\u001b[49m\u001b[43m)\u001b[49m\n\u001b[1;32m    510\u001b[0m \u001b[38;5;66;03m# Collect newly grown trees\u001b[39;00m\n\u001b[1;32m    511\u001b[0m \u001b[38;5;28mself\u001b[39m\u001b[38;5;241m.\u001b[39mestimators_\u001b[38;5;241m.\u001b[39mextend(trees)\n",
      "File \u001b[0;32m~/Desktop/AIAP_Hotel_pred/.hotel/lib/python3.13/site-packages/sklearn/utils/parallel.py:74\u001b[0m, in \u001b[0;36mParallel.__call__\u001b[0;34m(self, iterable)\u001b[0m\n\u001b[1;32m     69\u001b[0m config \u001b[38;5;241m=\u001b[39m get_config()\n\u001b[1;32m     70\u001b[0m iterable_with_config \u001b[38;5;241m=\u001b[39m (\n\u001b[1;32m     71\u001b[0m     (_with_config(delayed_func, config), args, kwargs)\n\u001b[1;32m     72\u001b[0m     \u001b[38;5;28;01mfor\u001b[39;00m delayed_func, args, kwargs \u001b[38;5;129;01min\u001b[39;00m iterable\n\u001b[1;32m     73\u001b[0m )\n\u001b[0;32m---> 74\u001b[0m \u001b[38;5;28;01mreturn\u001b[39;00m \u001b[38;5;28;43msuper\u001b[39;49m\u001b[43m(\u001b[49m\u001b[43m)\u001b[49m\u001b[38;5;241;43m.\u001b[39;49m\u001b[38;5;21;43m__call__\u001b[39;49m\u001b[43m(\u001b[49m\u001b[43miterable_with_config\u001b[49m\u001b[43m)\u001b[49m\n",
      "File \u001b[0;32m~/Desktop/AIAP_Hotel_pred/.hotel/lib/python3.13/site-packages/joblib/parallel.py:1918\u001b[0m, in \u001b[0;36mParallel.__call__\u001b[0;34m(self, iterable)\u001b[0m\n\u001b[1;32m   1916\u001b[0m     output \u001b[38;5;241m=\u001b[39m \u001b[38;5;28mself\u001b[39m\u001b[38;5;241m.\u001b[39m_get_sequential_output(iterable)\n\u001b[1;32m   1917\u001b[0m     \u001b[38;5;28mnext\u001b[39m(output)\n\u001b[0;32m-> 1918\u001b[0m     \u001b[38;5;28;01mreturn\u001b[39;00m output \u001b[38;5;28;01mif\u001b[39;00m \u001b[38;5;28mself\u001b[39m\u001b[38;5;241m.\u001b[39mreturn_generator \u001b[38;5;28;01melse\u001b[39;00m \u001b[38;5;28;43mlist\u001b[39;49m\u001b[43m(\u001b[49m\u001b[43moutput\u001b[49m\u001b[43m)\u001b[49m\n\u001b[1;32m   1920\u001b[0m \u001b[38;5;66;03m# Let's create an ID that uniquely identifies the current call. If the\u001b[39;00m\n\u001b[1;32m   1921\u001b[0m \u001b[38;5;66;03m# call is interrupted early and that the same instance is immediately\u001b[39;00m\n\u001b[1;32m   1922\u001b[0m \u001b[38;5;66;03m# re-used, this id will be used to prevent workers that were\u001b[39;00m\n\u001b[1;32m   1923\u001b[0m \u001b[38;5;66;03m# concurrently finalizing a task from the previous call to run the\u001b[39;00m\n\u001b[1;32m   1924\u001b[0m \u001b[38;5;66;03m# callback.\u001b[39;00m\n\u001b[1;32m   1925\u001b[0m \u001b[38;5;28;01mwith\u001b[39;00m \u001b[38;5;28mself\u001b[39m\u001b[38;5;241m.\u001b[39m_lock:\n",
      "File \u001b[0;32m~/Desktop/AIAP_Hotel_pred/.hotel/lib/python3.13/site-packages/joblib/parallel.py:1847\u001b[0m, in \u001b[0;36mParallel._get_sequential_output\u001b[0;34m(self, iterable)\u001b[0m\n\u001b[1;32m   1845\u001b[0m \u001b[38;5;28mself\u001b[39m\u001b[38;5;241m.\u001b[39mn_dispatched_batches \u001b[38;5;241m+\u001b[39m\u001b[38;5;241m=\u001b[39m \u001b[38;5;241m1\u001b[39m\n\u001b[1;32m   1846\u001b[0m \u001b[38;5;28mself\u001b[39m\u001b[38;5;241m.\u001b[39mn_dispatched_tasks \u001b[38;5;241m+\u001b[39m\u001b[38;5;241m=\u001b[39m \u001b[38;5;241m1\u001b[39m\n\u001b[0;32m-> 1847\u001b[0m res \u001b[38;5;241m=\u001b[39m \u001b[43mfunc\u001b[49m\u001b[43m(\u001b[49m\u001b[38;5;241;43m*\u001b[39;49m\u001b[43margs\u001b[49m\u001b[43m,\u001b[49m\u001b[43m \u001b[49m\u001b[38;5;241;43m*\u001b[39;49m\u001b[38;5;241;43m*\u001b[39;49m\u001b[43mkwargs\u001b[49m\u001b[43m)\u001b[49m\n\u001b[1;32m   1848\u001b[0m \u001b[38;5;28mself\u001b[39m\u001b[38;5;241m.\u001b[39mn_completed_tasks \u001b[38;5;241m+\u001b[39m\u001b[38;5;241m=\u001b[39m \u001b[38;5;241m1\u001b[39m\n\u001b[1;32m   1849\u001b[0m \u001b[38;5;28mself\u001b[39m\u001b[38;5;241m.\u001b[39mprint_progress()\n",
      "File \u001b[0;32m~/Desktop/AIAP_Hotel_pred/.hotel/lib/python3.13/site-packages/sklearn/utils/parallel.py:136\u001b[0m, in \u001b[0;36m_FuncWrapper.__call__\u001b[0;34m(self, *args, **kwargs)\u001b[0m\n\u001b[1;32m    134\u001b[0m     config \u001b[38;5;241m=\u001b[39m {}\n\u001b[1;32m    135\u001b[0m \u001b[38;5;28;01mwith\u001b[39;00m config_context(\u001b[38;5;241m*\u001b[39m\u001b[38;5;241m*\u001b[39mconfig):\n\u001b[0;32m--> 136\u001b[0m     \u001b[38;5;28;01mreturn\u001b[39;00m \u001b[38;5;28;43mself\u001b[39;49m\u001b[38;5;241;43m.\u001b[39;49m\u001b[43mfunction\u001b[49m\u001b[43m(\u001b[49m\u001b[38;5;241;43m*\u001b[39;49m\u001b[43margs\u001b[49m\u001b[43m,\u001b[49m\u001b[43m \u001b[49m\u001b[38;5;241;43m*\u001b[39;49m\u001b[38;5;241;43m*\u001b[39;49m\u001b[43mkwargs\u001b[49m\u001b[43m)\u001b[49m\n",
      "File \u001b[0;32m~/Desktop/AIAP_Hotel_pred/.hotel/lib/python3.13/site-packages/sklearn/ensemble/_forest.py:192\u001b[0m, in \u001b[0;36m_parallel_build_trees\u001b[0;34m(tree, bootstrap, X, y, sample_weight, tree_idx, n_trees, verbose, class_weight, n_samples_bootstrap, missing_values_in_feature_mask)\u001b[0m\n\u001b[1;32m    189\u001b[0m     \u001b[38;5;28;01melif\u001b[39;00m class_weight \u001b[38;5;241m==\u001b[39m \u001b[38;5;124m\"\u001b[39m\u001b[38;5;124mbalanced_subsample\u001b[39m\u001b[38;5;124m\"\u001b[39m:\n\u001b[1;32m    190\u001b[0m         curr_sample_weight \u001b[38;5;241m*\u001b[39m\u001b[38;5;241m=\u001b[39m compute_sample_weight(\u001b[38;5;124m\"\u001b[39m\u001b[38;5;124mbalanced\u001b[39m\u001b[38;5;124m\"\u001b[39m, y, indices\u001b[38;5;241m=\u001b[39mindices)\n\u001b[0;32m--> 192\u001b[0m     \u001b[43mtree\u001b[49m\u001b[38;5;241;43m.\u001b[39;49m\u001b[43m_fit\u001b[49m\u001b[43m(\u001b[49m\n\u001b[1;32m    193\u001b[0m \u001b[43m        \u001b[49m\u001b[43mX\u001b[49m\u001b[43m,\u001b[49m\n\u001b[1;32m    194\u001b[0m \u001b[43m        \u001b[49m\u001b[43my\u001b[49m\u001b[43m,\u001b[49m\n\u001b[1;32m    195\u001b[0m \u001b[43m        \u001b[49m\u001b[43msample_weight\u001b[49m\u001b[38;5;241;43m=\u001b[39;49m\u001b[43mcurr_sample_weight\u001b[49m\u001b[43m,\u001b[49m\n\u001b[1;32m    196\u001b[0m \u001b[43m        \u001b[49m\u001b[43mcheck_input\u001b[49m\u001b[38;5;241;43m=\u001b[39;49m\u001b[38;5;28;43;01mFalse\u001b[39;49;00m\u001b[43m,\u001b[49m\n\u001b[1;32m    197\u001b[0m \u001b[43m        \u001b[49m\u001b[43mmissing_values_in_feature_mask\u001b[49m\u001b[38;5;241;43m=\u001b[39;49m\u001b[43mmissing_values_in_feature_mask\u001b[49m\u001b[43m,\u001b[49m\n\u001b[1;32m    198\u001b[0m \u001b[43m    \u001b[49m\u001b[43m)\u001b[49m\n\u001b[1;32m    199\u001b[0m \u001b[38;5;28;01melse\u001b[39;00m:\n\u001b[1;32m    200\u001b[0m     tree\u001b[38;5;241m.\u001b[39m_fit(\n\u001b[1;32m    201\u001b[0m         X,\n\u001b[1;32m    202\u001b[0m         y,\n\u001b[0;32m   (...)\u001b[0m\n\u001b[1;32m    205\u001b[0m         missing_values_in_feature_mask\u001b[38;5;241m=\u001b[39mmissing_values_in_feature_mask,\n\u001b[1;32m    206\u001b[0m     )\n",
      "File \u001b[0;32m~/Desktop/AIAP_Hotel_pred/.hotel/lib/python3.13/site-packages/sklearn/tree/_classes.py:472\u001b[0m, in \u001b[0;36mBaseDecisionTree._fit\u001b[0;34m(self, X, y, sample_weight, check_input, missing_values_in_feature_mask)\u001b[0m\n\u001b[1;32m    461\u001b[0m \u001b[38;5;28;01melse\u001b[39;00m:\n\u001b[1;32m    462\u001b[0m     builder \u001b[38;5;241m=\u001b[39m BestFirstTreeBuilder(\n\u001b[1;32m    463\u001b[0m         splitter,\n\u001b[1;32m    464\u001b[0m         min_samples_split,\n\u001b[0;32m   (...)\u001b[0m\n\u001b[1;32m    469\u001b[0m         \u001b[38;5;28mself\u001b[39m\u001b[38;5;241m.\u001b[39mmin_impurity_decrease,\n\u001b[1;32m    470\u001b[0m     )\n\u001b[0;32m--> 472\u001b[0m \u001b[43mbuilder\u001b[49m\u001b[38;5;241;43m.\u001b[39;49m\u001b[43mbuild\u001b[49m\u001b[43m(\u001b[49m\u001b[38;5;28;43mself\u001b[39;49m\u001b[38;5;241;43m.\u001b[39;49m\u001b[43mtree_\u001b[49m\u001b[43m,\u001b[49m\u001b[43m \u001b[49m\u001b[43mX\u001b[49m\u001b[43m,\u001b[49m\u001b[43m \u001b[49m\u001b[43my\u001b[49m\u001b[43m,\u001b[49m\u001b[43m \u001b[49m\u001b[43msample_weight\u001b[49m\u001b[43m,\u001b[49m\u001b[43m \u001b[49m\u001b[43mmissing_values_in_feature_mask\u001b[49m\u001b[43m)\u001b[49m\n\u001b[1;32m    474\u001b[0m \u001b[38;5;28;01mif\u001b[39;00m \u001b[38;5;28mself\u001b[39m\u001b[38;5;241m.\u001b[39mn_outputs_ \u001b[38;5;241m==\u001b[39m \u001b[38;5;241m1\u001b[39m \u001b[38;5;129;01mand\u001b[39;00m is_classifier(\u001b[38;5;28mself\u001b[39m):\n\u001b[1;32m    475\u001b[0m     \u001b[38;5;28mself\u001b[39m\u001b[38;5;241m.\u001b[39mn_classes_ \u001b[38;5;241m=\u001b[39m \u001b[38;5;28mself\u001b[39m\u001b[38;5;241m.\u001b[39mn_classes_[\u001b[38;5;241m0\u001b[39m]\n",
      "\u001b[0;31mKeyboardInterrupt\u001b[0m: "
     ]
    }
   ],
   "source": [
    "from sklearn.model_selection import train_test_split, RandomizedSearchCV\n",
    "from scipy.stats import randint\n",
    "# Baseline model\n",
    "print(\"Training baseline Random Forest...\")\n",
    "rf_baseline = RandomForestClassifier(random_state=42)\n",
    "rf_baseline.fit(X_train, y_train)\n",
    "baseline_preds = rf_baseline.predict(X_test)\n",
    "print(\"Baseline Accuracy:\", accuracy_score(y_test, baseline_preds))\n",
    "\n",
    "# Define hyperparameter distribution for Randomized Search\n",
    "param_dist = {\n",
    "    'n_estimators': randint(100, 500),\n",
    "    'max_depth': [None] + list(range(10, 50, 10)),\n",
    "    'min_samples_split': randint(2, 20),\n",
    "    'min_samples_leaf': randint(1, 10),\n",
    "    'max_features': ['sqrt', 'log2']\n",
    "}\n",
    "\n",
    "# Randomized Search\n",
    "print(\"\\nStarting RandomizedSearchCV...\")\n",
    "rf = RandomForestClassifier(random_state=42)\n",
    "random_search = RandomizedSearchCV(\n",
    "    estimator=rf,\n",
    "    param_distributions=param_dist,\n",
    "    n_iter=50,  # Number of parameter settings sampled\n",
    "    cv=0,       # 3-fold cross-validation\n",
    "    scoring='accuracy',\n",
    "    n_jobs=-1,\n",
    "    verbose=2,\n",
    "    random_state=42\n",
    ")\n",
    "\n",
    "# Fit Randomized Search\n",
    "random_search.fit(X_train, y_train)\n",
    "print(\"\\nBest Parameters:\", random_search.best_params_)\n",
    "print(\"Best Cross-Validation Accuracy:\", random_search.best_score_)\n",
    "\n",
    "# Train final model with best parameters\n",
    "print(\"\\nTraining final model...\")\n",
    "rf_final = RandomForestClassifier(**random_search.best_params_, random_state=42)\n",
    "rf_final.fit(X_train, y_train)\n",
    "\n",
    "# Evaluate on test set\n",
    "final_preds = rf_final.predict(X_test)\n",
    "print(\"\\nFinal Test Accuracy:\", accuracy_score(y_test, final_preds))\n",
    "print(\"\\nClassification Report:\\n\", classification_report(y_test, final_preds))\n",
    "\n",
    "# Feature importance\n",
    "feature_importances = rf_final.feature_importances_\n",
    "print(\"\\nFeature Importances:\")\n",
    "for name, importance in zip(X.columns, feature_importances):\n",
    "    print(f\"{name}: {importance:.4f}\")"
   ]
  },
  {
   "cell_type": "markdown",
   "metadata": {},
   "source": [
    "Logistic Regression"
   ]
  },
  {
   "cell_type": "code",
   "execution_count": 103,
   "metadata": {},
   "outputs": [
    {
     "name": "stdout",
     "output_type": "stream",
     "text": [
      "\n",
      "Baseline Accuracy: 0.711031074629366\n",
      "\n",
      "Classification Report:\n",
      "               precision    recall  f1-score   support\n",
      "\n",
      "           0       0.74      0.84      0.79     15111\n",
      "           1       0.64      0.48      0.55      8767\n",
      "\n",
      "    accuracy                           0.71     23878\n",
      "   macro avg       0.69      0.66      0.67     23878\n",
      "weighted avg       0.70      0.71      0.70     23878\n",
      "\n"
     ]
    }
   ],
   "source": [
    "from sklearn.linear_model import LogisticRegression\n",
    "lr_baseline = LogisticRegression(random_state=42, max_iter=1000)\n",
    "lr_baseline.fit(X_train, y_train)\n",
    "baseline_preds = lr_baseline.predict(X_test)\n",
    "print(\"\\nBaseline Accuracy:\", accuracy_score(y_test, baseline_preds))\n",
    "print(\"\\nClassification Report:\\n\", classification_report(y_test, baseline_preds))"
   ]
  },
  {
   "cell_type": "code",
   "execution_count": null,
   "metadata": {},
   "outputs": [],
   "source": [
    "from sklearn.model_selection import train_test_split, GridSearchCV\n",
    "from sklearn.metrics import accuracy_score, classification_report, confusion_matrix\n",
    "\n",
    "scaler = StandardScaler()\n",
    "X_train = scaler.fit_transform(X_train)\n",
    "X_test = scaler.transform(X_test)\n",
    "\n",
    "# Train a baseline logistic regression model\n",
    "print(\"Training baseline Logistic Regression...\")\n",
    "lr_baseline = LogisticRegression(random_state=42, max_iter=1000)\n",
    "lr_baseline.fit(X_train, y_train)\n",
    "\n",
    "# Evaluate the baseline model\n",
    "baseline_preds = lr_baseline.predict(X_test)\n",
    "print(\"\\nBaseline Accuracy:\", accuracy_score(y_test, baseline_preds))\n",
    "print(\"\\nClassification Report:\\n\", classification_report(y_test, baseline_preds))\n",
    "\n",
    "# Hyperparameter tuning using GridSearchCV\n",
    "param_grid = {\n",
    "    'C': [0.01, 0.1, 1, 10, 100],  # Regularization strength\n",
    "    'penalty': ['l1', 'l2', 'elasticnet', 'none'],  # Regularization type\n",
    "    'solver': ['lbfgs', 'saga'],  # Solver (saga supports all penalties)\n",
    "}\n",
    "print(\"\\nStarting hyperparameter tuning with GridSearchCV...\")\n",
    "lr = LogisticRegression(random_state=42, max_iter=1000)\n",
    "grid_search = GridSearchCV(estimator=lr, param_grid=param_grid, cv=5, scoring='accuracy', n_jobs=-1, verbose=2)\n",
    "\n",
    "grid_search.fit(X_train, y_train)\n",
    "\n",
    "# Best parameters and cross-validation score\n",
    "print(\"\\nBest Parameters:\", grid_search.best_params_)\n",
    "print(\"Best Cross-Validation Accuracy:\", grid_search.best_score_)\n",
    "\n",
    "# Train the final model with the best parameters\n",
    "print(\"\\nTraining final Logistic Regression model...\")\n",
    "lr_final = LogisticRegression(**grid_search.best_params_, random_state=42, max_iter=1000)\n",
    "lr_final.fit(X_train, y_train)\n",
    "\n",
    "# Evaluate the final model\n",
    "final_preds = lr_final.predict(X_test)\n",
    "print(\"\\nFinal Test Accuracy:\", accuracy_score(y_test, final_preds))\n",
    "print(\"\\nFinal Classification Report:\\n\", classification_report(y_test, final_preds))\n",
    "\n",
    "# Display confusion matrix\n",
    "print(\"\\nConfusion Matrix:\")\n",
    "print(confusion_matrix(y_test, final_preds))"
   ]
  },
  {
   "cell_type": "markdown",
   "metadata": {},
   "source": [
    "KNN"
   ]
  },
  {
   "cell_type": "code",
   "execution_count": 113,
   "metadata": {},
   "outputs": [
    {
     "data": {
      "image/png": "[encoded data removed]",
      "text/plain": [
       "<Figure size 640x480 with 2 Axes>"
      ]
     },
     "metadata": {},
     "output_type": "display_data"
    },
    {
     "name": "stdout",
     "output_type": "stream",
     "text": [
      "KNN Accuracy: 0.7303375492084764\n",
      "Classification Report:\n",
      "               precision    recall  f1-score   support\n",
      "\n",
      "           0       0.77      0.81      0.79     15111\n",
      "           1       0.64      0.59      0.62      8767\n",
      "\n",
      "    accuracy                           0.73     23878\n",
      "   macro avg       0.71      0.70      0.70     23878\n",
      "weighted avg       0.73      0.73      0.73     23878\n",
      "\n",
      "[[12244  2867]\n",
      " [ 3572  5195]]\n"
     ]
    }
   ],
   "source": [
    "from sklearn.neighbors import KNeighborsClassifier\n",
    "knn = KNeighborsClassifier(n_neighbors=5)  # Default k=5\n",
    "knn.fit(X_train, y_train)\n",
    "\n",
    "# Predict and evaluate\n",
    "knn_preds = knn.predict(X_test)\n",
    "\n",
    "cm = confusion_matrix(y_test, knn_preds)\n",
    "disp = ConfusionMatrixDisplay(confusion_matrix=cm, display_labels=['Class 0', 'Class 1'])\n",
    "disp.plot(cmap='Blues')  # You can change the color map here\n",
    "plt.title('Confusion Matrix')\n",
    "plt.show()\n",
    "print(\"KNN Accuracy:\", accuracy_score(y_test, knn_preds))\n",
    "print(\"Classification Report:\\n\", classification_report(y_test, knn_preds))\n",
    "print(cm)\n"
   ]
  },
  {
   "cell_type": "markdown",
   "metadata": {},
   "source": [
    "XGBoost"
   ]
  },
  {
   "cell_type": "code",
   "execution_count": 108,
   "metadata": {},
   "outputs": [
    {
     "name": "stdout",
     "output_type": "stream",
     "text": [
      "XGBoost Accuracy: 0.7465030572074713\n",
      "Classification Report:\n",
      "               precision    recall  f1-score   support\n",
      "\n",
      "           0       0.76      0.88      0.81     15111\n",
      "           1       0.71      0.52      0.60      8767\n",
      "\n",
      "    accuracy                           0.75     23878\n",
      "   macro avg       0.74      0.70      0.71     23878\n",
      "weighted avg       0.74      0.75      0.74     23878\n",
      "\n",
      "[[13303  1808]\n",
      " [ 4245  4522]]\n"
     ]
    }
   ],
   "source": [
    "import xgboost as xgb\n",
    "\n",
    "xgb_clf = xgb.XGBClassifier(\n",
    "    n_estimators=100,\n",
    "    max_depth=5,\n",
    "    learning_rate=0.1,\n",
    "    random_state=42\n",
    ")\n",
    "xgb_clf.fit(X_train, y_train)\n",
    "\n",
    "# Predict and evaluate\n",
    "xgb_preds = xgb_clf.predict(X_test)\n",
    "print(\"XGBoost Accuracy:\", accuracy_score(y_test, xgb_preds))\n",
    "print(\"Classification Report:\\n\", classification_report(y_test, xgb_preds))\n",
    "print(confusion_matrix(y_test, xgb_preds))"
   ]
  },
  {
   "cell_type": "markdown",
   "metadata": {},
   "source": [
    "Neural Networks"
   ]
  },
  {
   "cell_type": "code",
   "execution_count": null,
   "metadata": {},
   "outputs": [],
   "source": [
    "# import torch\n",
    "# import torch.nn as nn\n",
    "# import torch.optim as optim\n",
    "# from sklearn.preprocessing import StandardScaler\n",
    "# from sklearn.metrics import accuracy_score\n",
    "\n",
    "# # Load your dataset\n",
    "# # X = ...  # Features\n",
    "# # y = ...  # Target\n",
    "\n",
    "# # Split dataset\n",
    "# # X_train, X_test, y_train, y_test = train_test_split(X, y, test_size=0.2, random_state=42)\n",
    "\n",
    "# # Convert data to PyTorch tensors\n",
    "# X_train = torch.tensor(X_train, dtype=torch.float32)\n",
    "# X_test = torch.tensor(X_test, dtype=torch.float32)\n",
    "# y_train = torch.tensor(y_train.values, dtype=torch.long)  # Use long for classification\n",
    "# y_test = torch.tensor(y_test.values, dtype=torch.long)\n",
    "\n",
    "# # Define Feedforward Neural Network\n",
    "# class FeedforwardNN(nn.Module):\n",
    "#     def __init__(self, input_size, hidden_size, output_size):\n",
    "#         super(FeedforwardNN, self).__init__()\n",
    "#         self.fc1 = nn.Linear(input_size, hidden_size)\n",
    "#         self.relu = nn.ReLU()\n",
    "#         self.fc2 = nn.Linear(hidden_size, output_size)\n",
    "#         self.softmax = nn.Softmax(dim=1)\n",
    "\n",
    "#     def forward(self, x):\n",
    "#         x = self.fc1(x)\n",
    "#         x = self.relu(x)\n",
    "#         x = self.fc2(x)\n",
    "#         x = self.softmax(x)\n",
    "#         return x\n",
    "\n",
    "# # Model initialization\n",
    "# input_size = X_train.shape[1]\n",
    "# hidden_size = 64\n",
    "# output_size = len(torch.unique(y_train))\n",
    "# model = FeedforwardNN(input_size, hidden_size, output_size)\n",
    "\n",
    "# # Loss and optimizer\n",
    "# criterion = nn.CrossEntropyLoss()\n",
    "# optimizer = optim.Adam(model.parameters(), lr=0.001)\n",
    "\n",
    "# # Train the model\n",
    "# epochs = 50\n",
    "# for epoch in range(epochs):\n",
    "#     model.train()\n",
    "#     optimizer.zero_grad()\n",
    "#     outputs = model(X_train)\n",
    "#     loss = criterion(outputs, y_train)\n",
    "#     loss.backward()\n",
    "#     optimizer.step()\n",
    "\n",
    "#     if (epoch + 1) % 10 == 0:\n",
    "#         print(f\"Epoch [{epoch + 1}/{epochs}], Loss: {loss.item():.4f}\")\n",
    "\n",
    "# # Evaluate the model\n",
    "# model.eval()\n",
    "# with torch.no_grad():\n",
    "#     predictions = model(X_test).argmax(dim=1)\n",
    "#     print(\"FNN Accuracy:\", accuracy_score(y_test, predictions))\n"
   ]
  },
  {
   "cell_type": "markdown",
   "metadata": {},
   "source": [
    "# additional stuff "
   ]
  },
  {
   "cell_type": "markdown",
   "metadata": {},
   "source": [
    "FIll price with branch and room type information. "
   ]
  },
  {
   "cell_type": "code",
   "execution_count": null,
   "metadata": {},
   "outputs": [
    {
     "name": "stdout",
     "output_type": "stream",
     "text": [
      "no_show              1.000000\n",
      "country_china        0.341950\n",
      "branch_orchard       0.137955\n",
      "country_india        0.123827\n",
      "country_japan        0.122210\n",
      "country_indonesia    0.114661\n",
      "first_time_yes       0.083635\n",
      "amount_in_sgd        0.060485\n",
      "country_singapore    0.051500\n",
      "room_single          0.050891\n",
      "Name: no_show, dtype: float64\n"
     ]
    },
    {
     "data": {
      "image/png": "[encoded data removed]",
      "text/plain": [
       "<Figure size 640x480 with 2 Axes>"
      ]
     },
     "metadata": {},
     "output_type": "display_data"
    }
   ],
   "source": [
    "corr_matrix = df_encoded.corr()\n",
    "no_show_corr = corr_matrix['no_show']\n",
    "\n",
    "sorted_corr = no_show_corr.abs().sort_values(ascending=False)\n",
    "sns.heatmap(sorted_corr.values.reshape(1, -1), annot=True, cmap='coolwarm', cbar_kws={'label': 'Correlation'}, vmin=-1, vmax=1)\n",
    "\n",
    "print(sorted_corr[sorted_corr >= 0.05])\n",
    "\n",
    "# columns_to_drop = sorted_corr[sorted_corr < 0.05].index\n",
    "# df_encoded = df_encoded.drop(columns = columns_to_drop, axis =1 )"
   ]
  },
  {
   "cell_type": "code",
   "execution_count": 152,
   "metadata": {},
   "outputs": [
    {
     "name": "stdout",
     "output_type": "stream",
     "text": [
      "          0         1         2         3         4         5\n",
      "0 -1.892447 -0.130959  0.495735 -0.102355  0.226680  0.881692\n",
      "1  1.590582 -0.894088  0.056666  0.471924 -0.099987 -0.064052\n",
      "2 -0.889304  0.539248  1.235185  0.264627 -0.045741 -0.068800\n",
      "3  0.078257 -0.273950  0.416750 -0.126940  0.163477  0.244526\n",
      "4  1.699495 -0.396579  0.202975 -0.204813  0.185749  0.218632\n"
     ]
    }
   ],
   "source": [
    "X=df_encoded.drop(['no_show'],axis=1)\n",
    "y=df_encoded['no_show'].astype('category')\n",
    "\n",
    "from sklearn.decomposition import PCA\n",
    "from sklearn.model_selection import train_test_split\n",
    "pca = PCA(n_components=0.95)  # Keeps 95% of the variance\n",
    "X_pca = pca.fit_transform(X)\n",
    "X_train, X_test, y_train, y_test= train_test_split(X_pca, y, test_size=0.2, random_state=42)\n",
    "\n",
    "y_train= y_train.astype(int)\n",
    "y_test= y_test.astype(int)\n",
    "X_pca_df= pd.DataFrame(X_pca)\n",
    "print(X_pca_df.head())\n",
    "\n"
   ]
  },
  {
   "cell_type": "code",
   "execution_count": 153,
   "metadata": {},
   "outputs": [
    {
     "name": "stdout",
     "output_type": "stream",
     "text": [
      "Accuracy: 0.62\n",
      "Classification Report:\n",
      "              precision    recall  f1-score   support\n",
      "\n",
      "           0       0.70      0.70      0.70      9205\n",
      "           1       0.49      0.49      0.49      5375\n",
      "\n",
      "    accuracy                           0.62     14580\n",
      "   macro avg       0.59      0.59      0.59     14580\n",
      "weighted avg       0.62      0.62      0.62     14580\n",
      "\n"
     ]
    }
   ],
   "source": [
    "from sklearn.ensemble import RandomForestClassifier\n",
    "from sklearn.metrics import accuracy_score, classification_report\n",
    "\n",
    "# Create the Random Forest Classifier instance\n",
    "rf_classifier = RandomForestClassifier(random_state=42)\n",
    "\n",
    "# Fit the model to the training data\n",
    "rf_classifier.fit(X_train, y_train)\n",
    "\n",
    "# Predict on the test set\n",
    "y_pred = rf_classifier.predict(X_test)\n",
    "\n",
    "# Evaluate the model\n",
    "accuracy = accuracy_score(y_test, y_pred)\n",
    "print(f\"Accuracy: {accuracy:.2f}\")\n",
    "print(\"Classification Report:\")\n",
    "print(classification_report(y_test, y_pred))"
   ]
  },
  {
   "cell_type": "code",
   "execution_count": null,
   "metadata": {},
   "outputs": [],
   "source": [
    "df_cleaned"
   ]
  },
  {
   "cell_type": "code",
   "execution_count": null,
   "metadata": {},
   "outputs": [],
   "source": [
    "df_cleaned"
   ]
  },
  {
   "cell_type": "code",
   "execution_count": null,
   "metadata": {},
   "outputs": [],
   "source": [
    "# drop irrelevant columns\n",
    "df_cleaned"
   ]
  },
  {
   "cell_type": "code",
   "execution_count": 158,
   "metadata": {},
   "outputs": [
    {
     "name": "stdout",
     "output_type": "stream",
     "text": [
      "Unique value in no_show:[0. 1.]\n",
      "Unique value in branch:['changi' 'orchard']\n",
      "Unique value in arrival_day:[25. 28.  1. 20. 15.  9. 11. 10. 13. 21.  5.  6. 27. 31.  3.  4.  2.  7.\n",
      " 22. 23. 17. 14. 24. 29. 26. 19. 16.  8. 12. 18. 30.]\n",
      "Unique value in checkout_month:['june' 'november' 'october' 'march' 'may' 'august' 'july' 'january'\n",
      " 'april' 'september' 'february' 'december']\n",
      "Unique value in checkout_day:[27. 29.  3. 24. 16. 10. 12. 13. 11. 25. 17. 23.  8.  2.  9.  1.  4. 28.\n",
      "  6. 21.  5. 15.  7. 18. 19. 22. 14. 20. 30. 26. 31.]\n",
      "Unique value in country:['singapore' 'indonesia' 'china' 'australia' 'japan' 'india' 'malaysia']\n",
      "Unique value in first_time:['yes' 'no']\n",
      "Unique value in room:['single' 'king' 'queen' 'president suite']\n",
      "Unique value in platform:['website' 'email' 'agent' 'phone']\n",
      "Unique value in num_adults:['1' '2' 1 2]\n",
      "Unique value in num_children:[0. 1. 2. 3.]\n",
      "Unique value in currency:['sgd' 'usd']\n",
      "Unique value in amount_in_sgd:[ 492.98 1351.22  666.04 ... 1127.65  454.74 1426.57]\n",
      "Unique value in booking_month_int:[11  8  9  3 10  6  7  4  5  2  1 12]\n",
      "Unique value in arrival_month_int:[ 6 11 10  3  5  8  7  1  4  9  2 12]\n",
      "Unique value in book_duration:[ 5  3  1  7  8  2  4  0  9  6 11 10]\n",
      "Unique value in stay_duration:[ 2  1  4 14  3  5  8 28 15 21 29 22 23 40 42 49 35  9 62 43 30  6 46 16\n",
      " 54]\n"
     ]
    }
   ],
   "source": [
    "for column in df_cleaned.columns:\n",
    "    print(f'Unique value in {column}:{df_cleaned[column].unique()}')"
   ]
  },
  {
   "cell_type": "markdown",
   "metadata": {},
   "source": [
    "Check if dropping of null values reuslt in reduced categories"
   ]
  },
  {
   "cell_type": "code",
   "execution_count": 159,
   "metadata": {},
   "outputs": [
    {
     "name": "stdout",
     "output_type": "stream",
     "text": [
      "booking_id        119391\n",
      "no_show                2\n",
      "branch                 2\n",
      "booking_month         12\n",
      "arrival_month         88\n",
      "arrival_day           31\n",
      "checkout_month        12\n",
      "checkout_day          62\n",
      "country                7\n",
      "first_time             2\n",
      "room                   4\n",
      "price              61867\n",
      "platform               4\n",
      "num_adults             4\n",
      "num_children           4\n",
      "dtype: int64\n",
      "\n",
      " no_show                  2\n",
      "branch                   2\n",
      "arrival_day             31\n",
      "checkout_month          12\n",
      "checkout_day            31\n",
      "country                  7\n",
      "first_time               2\n",
      "room                     4\n",
      "platform                 4\n",
      "num_adults               4\n",
      "num_children             4\n",
      "currency                 2\n",
      "amount_in_sgd        42329\n",
      "booking_month_int       12\n",
      "arrival_month_int       12\n",
      "book_duration           12\n",
      "stay_duration           25\n",
      "dtype: int64\n"
     ]
    }
   ],
   "source": [
    "distinct_counts = df.nunique()\n",
    "distinct_countsdrop= df_cleaned.nunique()\n",
    "print(distinct_counts)\n",
    "print(f\"\\n {distinct_countsdrop}\")"
   ]
  },
  {
   "cell_type": "code",
   "execution_count": 160,
   "metadata": {},
   "outputs": [
    {
     "data": {
      "image/png": "[encoded data removed]",
      "text/plain": [
       "<Figure size 640x480 with 1 Axes>"
      ]
     },
     "metadata": {},
     "output_type": "display_data"
    }
   ],
   "source": [
    "import seaborn as sns\n",
    "import matplotlib.pyplot as plt\n",
    "sns.heatmap(df.isnull(), cbar=False)\n",
    "plt.show()"
   ]
  },
  {
   "cell_type": "code",
   "execution_count": 5,
   "metadata": {},
   "outputs": [
    {
     "data": {
      "text/plain": [
       "<Axes: >"
      ]
     },
     "execution_count": 5,
     "metadata": {},
     "output_type": "execute_result"
    },
    {
     "data": {
      "image/png": "[encoded data removed]",
      "text/plain": [
       "<Figure size 2500x1000 with 2 Axes>"
      ]
     },
     "metadata": {},
     "output_type": "display_data"
    }
   ],
   "source": [
    "import missingno as msno\n",
    "msno.matrix(df)"
   ]
  },
  {
   "cell_type": "code",
   "execution_count": 6,
   "metadata": {},
   "outputs": [
    {
     "data": {
      "text/plain": [
       "<Axes: >"
      ]
     },
     "execution_count": 6,
     "metadata": {},
     "output_type": "execute_result"
    },
    {
     "data": {
      "image/png": "[encoded data removed]",
      "text/plain": [
       "<Figure size 640x480 with 1 Axes>"
      ]
     },
     "metadata": {},
     "output_type": "display_data"
    }
   ],
   "source": [
    "df.isnull().mean().plot(kind='bar')"
   ]
  },
  {
   "cell_type": "code",
   "execution_count": 19,
   "metadata": {},
   "outputs": [
    {
     "name": "stdout",
     "output_type": "stream",
     "text": [
      "0.8133574356378841\n"
     ]
    }
   ],
   "source": [
    "# from scipy.stats import chi2_contingency\n",
    "# df_price= df[['price']]\n",
    "# df_price = df_price['price'].isnull().astype(int)\n",
    "# df_distinct = df.drop(['price','room','booking_id'], axis=1)\n",
    "# df_distinct = df_distinct.astype('category') \n",
    "# df_room= df[['room']]\n",
    "# df_room = df_room['room'].isnull().astype(int)\n",
    "# # print(df_room.head(50))\n",
    "\n",
    "\n",
    "# for column in df_distinct.columns:\n",
    "#     # Create a contingency table\n",
    "#     contingency_table = pd.crosstab(df_room, df_distinct[column])\n",
    "    \n",
    "#     # Perform the chi-square test\n",
    "#     chi2, p, dof, expected = chi2_contingency(contingency_table)\n",
    "#     print(f\"Chi-square test for 'room' and '{column}':\")\n",
    "#     print(f\"Chi2: {chi2}, p-value: {p}\\n\")\n",
    "\n",
    "#     if p < 0.05:\n",
    "#         print(f\"Significant relationship between 'price_category' and '{column}'\\n\")\n",
    "#     else:\n",
    "#         print(f\"No significant relationship between 'price_category' and '{column}'\\n\")\n",
    "# # print(f\"p-value: {p}\")\n",
    "\n",
    "\n",
    "import scipy.stats as stats\n",
    "contingency_table = pd.crosstab(df['room'].isnull(), df['branch'])\n",
    "chi2, p_value, _, _ = stats.chi2_contingency(contingency_table)\n",
    "print(p_value)\n",
    "\n",
    "# df_price.head(10)"
   ]
  },
  {
   "cell_type": "code",
   "execution_count": 24,
   "metadata": {},
   "outputs": [
    {
     "name": "stdout",
     "output_type": "stream",
     "text": [
      "Chi-square test for 'price' and 'branch':\n",
      "Chi2: 5.973101909748914, p-value: 0.014525707336282202\n",
      "\n",
      "Significant relationship between 'price' and 'branch'\n",
      "\n",
      "Chi-square test for 'price' and 'arrival_day':\n",
      "Chi2: 47.026419889168274, p-value: 0.024736317976835242\n",
      "\n",
      "Significant relationship between 'price' and 'arrival_day'\n",
      "\n",
      "Chi-square test for 'room' and 'arrival_month':\n",
      "Chi2: 110.72503735391246, p-value: 0.043955451995986154\n",
      "\n",
      "Significant relationship between 'room' and 'arrival_month'\n",
      "\n",
      "Chi-square test for 'room' and 'country':\n",
      "Chi2: 17.845758714015545, p-value: 0.0066294366670059625\n",
      "\n",
      "Significant relationship between 'room' and 'country'\n",
      "\n"
     ]
    }
   ],
   "source": [
    "from scipy.stats import chi2_contingency\n",
    "df_missing= df[['price','room'] ]\n",
    "df_missing = df_missing[['price','room']].isnull().astype(int)\n",
    "# print(df_missing.head(20))\n",
    "df_distinct = df.drop(['price','room','booking_id'], axis=1)\n",
    "df_distinct = df_distinct.astype('category') \n",
    "\n",
    "for j in df_missing.columns:\n",
    "    for column in df_distinct.columns:\n",
    "        # Create a contingency table\n",
    "        contingency_table = pd.crosstab(df_missing[j], df_distinct[column])\n",
    "        \n",
    "        # Perform the chi-square test\n",
    "        chi2, p, dof, expected = chi2_contingency(contingency_table)\n",
    "        # print(f\"Chi2: {chi2}, p-value: {p}\\n\")\n",
    "        # print(f\"Significant relationship between '{j}' and '{column}'\\n\")\n",
    "\n",
    "        if p < 0.05:\n",
    "            print(f\"Chi-square test for '{j}' and '{column}':\")\n",
    "            print(f\"Chi2: {chi2}, p-value: {p}\\n\")\n",
    "            print(f\"Significant relationship between '{j}' and '{column}'\\n\")\n",
    "        # else:\n",
    "        #     print(f\"No significant relationship between '{j}' and '{column}'\\n\")\n"
   ]
  },
  {
   "cell_type": "code",
   "execution_count": 166,
   "metadata": {},
   "outputs": [],
   "source": [
    "df = df.apply(lambda x: x.str.lower() if x.dtype == \"object\" else x)"
   ]
  },
  {
   "cell_type": "code",
   "execution_count": 167,
   "metadata": {},
   "outputs": [
    {
     "name": "stdout",
     "output_type": "stream",
     "text": [
      "Number of missing 'price' values for each 'arrival_day':\n",
      "arrival_day\n",
      "17.0    955\n",
      "26.0    953\n",
      "5.0     885\n",
      "9.0     872\n",
      "19.0    863\n",
      "25.0    863\n",
      "30.0    858\n",
      "15.0    854\n",
      "18.0    849\n",
      "27.0    841\n",
      "16.0    837\n",
      "20.0    831\n",
      "8.0     828\n",
      "12.0    824\n",
      "2.0     822\n",
      "7.0     802\n",
      "24.0    798\n",
      "14.0    791\n",
      "13.0    791\n",
      "29.0    782\n",
      "21.0    779\n",
      "28.0    777\n",
      "6.0     775\n",
      "3.0     772\n",
      "23.0    754\n",
      "11.0    754\n",
      "1.0     747\n",
      "10.0    740\n",
      "4.0     735\n",
      "22.0    706\n",
      "31.0    443\n",
      "Name: count, dtype: int64\n"
     ]
    }
   ],
   "source": [
    "# Filter rows where the 'price' column is null\n",
    "missing_price = df[df['price'].isnull()]\n",
    "\n",
    "# Count the number of null 'price' entries for each 'arrival_day'\n",
    "missing_price_count = missing_price['arrival_day'].value_counts()\n",
    "\n",
    "# Display the result\n",
    "print(\"Number of missing 'price' values for each 'arrival_day':\")\n",
    "print(missing_price_count)"
   ]
  },
  {
   "cell_type": "code",
   "execution_count": 168,
   "metadata": {},
   "outputs": [
    {
     "name": "stdout",
     "output_type": "stream",
     "text": [
      "Number of missing 'price' values for each 'branch':\n",
      "branch\n",
      "changi     16370\n",
      "orchard     8511\n",
      "Name: count, dtype: int64\n"
     ]
    }
   ],
   "source": [
    "# Filter rows where the 'price' column is null\n",
    "missing_price = df[df['price'].isnull()]\n",
    "\n",
    "# Count the number of null 'price' entries for each 'arrival_day'\n",
    "missing_price_count = missing_price['branch'].value_counts()\n",
    "\n",
    "# Display the result\n",
    "print(\"Number of missing 'price' values for each 'branch':\")\n",
    "print(missing_price_count)"
   ]
  },
  {
   "cell_type": "code",
   "execution_count": 169,
   "metadata": {},
   "outputs": [
    {
     "name": "stdout",
     "output_type": "stream",
     "text": [
      "Number of missing 'room' values for each 'arrival_month':\n",
      "arrival_month\n",
      "august       2502\n",
      "july         2314\n",
      "may          2125\n",
      "october      2050\n",
      "april        2011\n",
      "june         1965\n",
      "march        1850\n",
      "september    1804\n",
      "february     1523\n",
      "november     1218\n",
      "december     1202\n",
      "january      1048\n",
      "Name: count, dtype: int64\n"
     ]
    }
   ],
   "source": [
    "# Filter rows where the 'price' column is null\n",
    "missing_room = df[df['room'].isnull()]\n",
    "\n",
    "# Count the number of null 'price' entries for each 'arrival_day'\n",
    "missing_room_count = missing_room['arrival_month'].value_counts()\n",
    "\n",
    "# Display the result\n",
    "print(\"Number of missing 'room' values for each 'arrival_month':\")\n",
    "print(missing_room_count)"
   ]
  },
  {
   "cell_type": "code",
   "execution_count": 170,
   "metadata": {},
   "outputs": [
    {
     "name": "stdout",
     "output_type": "stream",
     "text": [
      "Number of missing 'room' values for each 'country':\n",
      "country\n",
      "china        8647\n",
      "indonesia    4660\n",
      "india        2947\n",
      "australia    2153\n",
      "japan        1741\n",
      "singapore     781\n",
      "malaysia      683\n",
      "Name: count, dtype: int64\n"
     ]
    }
   ],
   "source": [
    "# Filter rows where the 'price' column is null\n",
    "missing_room = df[df['room'].isnull()]\n",
    "\n",
    "# Count the number of null 'price' entries for each 'arrival_day'\n",
    "missing_room_count = missing_room['country'].value_counts()\n",
    "\n",
    "# Display the result\n",
    "print(\"Number of missing 'room' values for each 'country':\")\n",
    "print(missing_room_count)"
   ]
  },
  {
   "cell_type": "markdown",
   "metadata": {},
   "source": [
    "missing room> look at price ... \n",
    "missing price > looking at room price ... "
   ]
  },
  {
   "cell_type": "code",
   "execution_count": null,
   "metadata": {},
   "outputs": [
    {
     "name": "stdout",
     "output_type": "stream",
     "text": [
      "        booking_id  no_show branch booking_month arrival_month  arrival_day  \\\n",
      "111598      115536      NaN   None          None          None          NaN   \n",
      "\n",
      "       checkout_month  checkout_day country first_time  room price platform  \\\n",
      "111598           None           NaN    None       None  None  None     None   \n",
      "\n",
      "       num_adults  num_children  \n",
      "111598       None           NaN  \n"
     ]
    }
   ],
   "source": [
    "rows_all_null = df[df_distinct.isnull().any(axis=1)]\n",
    "\n",
    "print(rows_all_null)"
   ]
  }
 ],
 "metadata": {
  "kernelspec": {
   "display_name": ".hotel",
   "language": "python",
   "name": "python3"
  },
  "language_info": {
   "codemirror_mode": {
    "name": "ipython",
    "version": 3
   },
   "file_extension": ".py",
   "mimetype": "text/x-python",
   "name": "python",
   "nbconvert_exporter": "python",
   "pygments_lexer": "ipython3",
   "version": "3.13.0"
  }
 },
 "nbformat": 4,
 "nbformat_minor": 2
}
